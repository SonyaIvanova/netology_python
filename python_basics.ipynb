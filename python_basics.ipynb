{
 "cells": [
  {
   "cell_type": "markdown",
   "metadata": {},
   "source": [
    "# Домашнее задание к лекции \"Основы Python\""
   ]
  },
  {
   "cell_type": "markdown",
   "metadata": {},
   "source": [
    "## Задание 1"
   ]
  },
  {
   "cell_type": "markdown",
   "metadata": {},
   "source": [
    "Даны 2 переменных, в которых хранятся строки произвольной длины: *phrase_1* и *phrase_2*.  \n",
    "Напишите код, который проверяет какая из этих строк длиннее."
   ]
  },
  {
   "cell_type": "code",
   "execution_count": 71,
   "metadata": {},
   "outputs": [
    {
     "name": "stdout",
     "output_type": "stream",
     "text": [
      "Фразы равной длины\n"
     ]
    }
   ],
   "source": [
    "'''phrase_1 = 'Насколько проще было бы писать программы, если бы не заказчики'\n",
    "phrase_2 = '640Кб должно хватить для любых задач. Билл Гейтс (по легенде)'\n",
    "phrase_1 = '640Кб должно хватить для любых задач. Билл Гейтс (по легенде)'\n",
    "phrase_2 = 'Насколько проще было бы писать программы, если бы не заказчики'''\n",
    "phrase_1 = 'Насколько проще было бы писать программы, если бы не заказчики'\n",
    "phrase_2 = 'Насколько проще было бы писать программы, если бы не заказчики'\n",
    "if len(phrase_1)>len(phrase_2) :\n",
    "    print ('Фраза 1 длиннее фразы 2')\n",
    "elif len(phrase_2)>len(phrase_1):\n",
    "    print('Фраза 2 длиннее фразы 1')\n",
    "else:\n",
    "    print('Фразы равной длины')"
   ]
  },
  {
   "cell_type": "markdown",
   "metadata": {},
   "source": [
    "## Задание 2"
   ]
  },
  {
   "cell_type": "markdown",
   "metadata": {},
   "source": [
    "Дана переменная, в которой хранится четырехзначное число (год). Необходимо написать программу, которая выведет, является ли данный год високосным или обычным."
   ]
  },
  {
   "cell_type": "code",
   "execution_count": 73,
   "metadata": {},
   "outputs": [
    {
     "name": "stdout",
     "output_type": "stream",
     "text": [
      "Високосный год\n"
     ]
    }
   ],
   "source": [
    "year=2020\n",
    "\n",
    "if year%4==0:\n",
    "    print('Високосный год')\n",
    "else:\n",
    "    print('Обычный год')"
   ]
  },
  {
   "cell_type": "markdown",
   "metadata": {},
   "source": [
    "## Задание 3"
   ]
  },
  {
   "cell_type": "markdown",
   "metadata": {},
   "source": [
    "Необходимо написать программу, которая будет запрашивать у пользователя месяц и дату рождения и выводить соответствующий знак зодиака.\n",
    "\n"
   ]
  },
  {
   "cell_type": "code",
   "execution_count": 75,
   "metadata": {},
   "outputs": [
    {
     "name": "stdout",
     "output_type": "stream",
     "text": [
      "Введите день: 16\n",
      "Введите месяц: март\n",
      "Ваш знак зодиака: Рыбы\n"
     ]
    }
   ],
   "source": [
    "bday=int(input(\"Введите день: \"))\n",
    "bmonth=str.lower(input(\"Введите месяц: \"))\n",
    "sign=''\n",
    "if (bday>=21 and bday<=31 and bmonth==\"март\") or( bmonth==\"апрель\" and bday>=1 and bday<=19):\n",
    "\n",
    "   sign=\"Овен\"\n",
    "\n",
    "elif (bday>=20 and bday<=30 and bmonth==\"апрель\") or( bmonth==\"май\" and bday>=1 and bday<=20):\n",
    "\n",
    "   sign=\"Телец\"\n",
    "\n",
    "elif (bday>=21 and bday<=31 and bmonth==\"май\") or( bmonth==\"июнь\" and bday>=1 and bday<=21):\n",
    "\n",
    "   sign=\"Близнецы\"\n",
    "\n",
    "elif (bday>=22 and bday<=30 and bmonth==\"июнь\") or( bmonth==\"июль\" and bday>=1 and bday<=22):\n",
    "\n",
    "   sign=\"Рак\"\n",
    "\n",
    "elif (bday>=23 and bday<=31 and bmonth==\"июль\") or( bmonth==\"август\" and bday>=1 and bday<=22):\n",
    "\n",
    "   sign=\"Лев\"\n",
    "\n",
    "elif (bday>=23 and bday<=31 and bmonth==\"август\") or( bmonth==\"сентябрь\" and bday>=1 and bday<=22):\n",
    "\n",
    "   sign=\"Дева\"\n",
    "\n",
    "elif (bday>=23 and bday<=30 and bmonth==\"сентябрь\") or( bmonth==\"октябрь\" and bday>=1 and bday<=23):\n",
    "\n",
    "   sign=\"Весы\"\n",
    "\n",
    "elif (bday>=24 and bday<=31 and bmonth==\"октябрь\") or( bmonth==\"ноябрь\" and bday>=1 and bday<=22):\n",
    "\n",
    "   sign=\"Скорпион\"\n",
    "\n",
    "elif (bday>=23 and bday<=30 and bmonth==\"ноябрь\") or( bmonth==\"декабрь\" and bday>=1 and bday<=21):\n",
    "\n",
    "   sign=\"Стрелец\"\n",
    "\n",
    "elif (bday>=22 and bday<=31 and bmonth==\"декабрь\") or( bmonth==\"январь\" and bday>=1 and bday<=20):\n",
    "   \n",
    "   sign=\"Козерог\"\n",
    "\n",
    "elif (bday>=21 and bday<=31 and bmonth==\"январь\") or( bmonth==\"февраль\" and bday>=1 and bday<=18):\n",
    "\n",
    "   sign=\"Водолей\"\n",
    "\n",
    "elif (bday>=19 and bday<=29 and bmonth==\"февраль\") or( bmonth==\"март\" and bday>=1 and bday<=20):\n",
    "\n",
    "   sign=\"Рыбы\"\n",
    "print('Ваш знак зодиака:',sign)"
   ]
  },
  {
   "cell_type": "markdown",
   "metadata": {},
   "source": [
    "## Задание 4"
   ]
  },
  {
   "cell_type": "markdown",
   "metadata": {},
   "source": [
    "Вам нужно написать программу для подбора упаковок по размерам товара. Размеры (ширина, длина, высота) хранятся в переменных (в сантиметрах):\n",
    "\n",
    "Используйте следующие правила:\n",
    "- если каждое из трех измерений менее 15 сантиметров, то выведите на экран \"Коробка №1\";\n",
    "- если хотя бы одно из измерений больше 15 сантиметров, но менее 50 сантиметров, то выводите \"Коробка №2\";\n",
    "- если длина товара больше 2 метров, то выводите \"Упаковка для лыж\";\n",
    "- во всех остальных случаях выводите \"Стандартная коробка №3\"."
   ]
  },
  {
   "cell_type": "code",
   "execution_count": 79,
   "metadata": {},
   "outputs": [
    {
     "name": "stdout",
     "output_type": "stream",
     "text": [
      "Коробка №2\n"
     ]
    }
   ],
   "source": [
    "width = 6\n",
    "length = 2\n",
    "height = 20\n",
    "if width<15 and length<15 and height<15:\n",
    "    print(\"Коробка №1\")\n",
    "elif (width>15 and width<50) or (length>15 and length<50) or (height>15 and height<50):\n",
    "    print(\"Коробка №2\")\n",
    "elif length>200:\n",
    "    print(\"Упаковка для лыж\")\n",
    "else:\n",
    "    print(\"Стандартная  коробка №3\")"
   ]
  },
  {
   "cell_type": "markdown",
   "metadata": {},
   "source": [
    "## Задание 5 (необязательное)"
   ]
  },
  {
   "cell_type": "markdown",
   "metadata": {},
   "source": [
    "Дана переменная, в которой хранится шестизначное число (номер проездного билета). Напишите программу, которая будет определять, является ли данный билет \"счастливым\". Билет считается счастливым, если сумма первых трех цифр совпадает с суммой последних трех цифр номера.   "
   ]
  },
  {
   "cell_type": "code",
   "execution_count": 80,
   "metadata": {},
   "outputs": [
    {
     "name": "stdout",
     "output_type": "stream",
     "text": [
      "Cчастливый билет\n"
     ]
    }
   ],
   "source": [
    "number = 123321\n",
    "num1=number//100000\n",
    "num2=(number%100000)//10000\n",
    "num3=(number%10000)//1000\n",
    "num4=(number%1000)//100\n",
    "num5=(number%100)//10\n",
    "num6=(number%10)\n",
    "if num1+num2+num3==num4+num5+num6:\n",
    "    print(\"Cчастливый билет\")\n",
    "else:\n",
    "    print(\"Несчастливый билет\")"
   ]
  },
  {
   "cell_type": "markdown",
   "metadata": {},
   "source": [
    "## Задание 6 (необязательное)"
   ]
  },
  {
   "cell_type": "markdown",
   "metadata": {},
   "source": [
    "Напишите программу, которая сможет вычислять площади трех фигур (круг, треугольник и прямоугольник).\n",
    "Тип фигуры запрашиваем через пользовательский ввод, после чего делаем запрос характеристик фигуры:\n",
    "\n",
    "- если пользователь выбрал круг, запрашиваем его радиус,\n",
    "- если треугольник – длины трех его сторон;\n",
    "- если прямоугольник – длины двух его сторон."
   ]
  },
  {
   "cell_type": "code",
   "execution_count": 81,
   "metadata": {},
   "outputs": [
    {
     "name": "stdout",
     "output_type": "stream",
     "text": [
      "Введите тип фигуры: круг\n",
      "Введите радиус круга: 10\n",
      "Площадь круга:  314.0\n"
     ]
    }
   ],
   "source": [
    "type_figure = str.lower(input(\"Введите тип фигуры: \"))\n",
    "if type_figure==\"круг\":\n",
    "    radius=float(input(\"Введите радиус круга: \"))\n",
    "    print(\"Площадь круга: \",round(3.14*(radius**2),2))\n",
    "elif type_figure==\"треугольник\":\n",
    "    side_a=float(input(\"Введите длину стороны A: \"))\n",
    "    side_b=float(input(\"Введите длину стороны B: \"))\n",
    "    side_c=float(input(\"Введите длину стороны C: \"))\n",
    "    p=(side_a+side_b+side_c)/2\n",
    "    s=(p*(p-side_a)*(p-side_b)*(p-side_c))**0.5\n",
    "    print(\"Площадь треуголоника:\",round(s,2))\n",
    "elif type_figure==\"прямоугольник\":\n",
    "    side_a=float(input(\"Введите длину стороны A: \"))\n",
    "    side_b=float(input(\"Введите длину стороны B: \"))\n",
    "    print(\"Площадь прямоугольника: \",round(side_a*side_b,2))\n",
    "\n",
    "    "
   ]
  }
 ],
 "metadata": {
  "kernelspec": {
   "display_name": "Python 3",
   "language": "python",
   "name": "python3"
  },
  "language_info": {
   "codemirror_mode": {
    "name": "ipython",
    "version": 3
   },
   "file_extension": ".py",
   "mimetype": "text/x-python",
   "name": "python",
   "nbconvert_exporter": "python",
   "pygments_lexer": "ipython3",
   "version": "3.8.3"
  }
 },
 "nbformat": 4,
 "nbformat_minor": 2
}
